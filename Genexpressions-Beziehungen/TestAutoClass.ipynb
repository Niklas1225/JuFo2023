{
 "cells": [
  {
   "cell_type": "code",
   "execution_count": 1,
   "id": "0b7a0ff5",
   "metadata": {},
   "outputs": [
    {
     "name": "stderr",
     "output_type": "stream",
     "text": [
      "2023-05-29 20:22:24.333386: I tensorflow/core/platform/cpu_feature_guard.cc:182] This TensorFlow binary is optimized to use available CPU instructions in performance-critical operations.\n",
      "To enable the following instructions: AVX2 FMA, in other operations, rebuild TensorFlow with the appropriate compiler flags.\n"
     ]
    }
   ],
   "source": [
    "import pandas as pd\n",
    "import numpy as np\n",
    "import matplotlib.pyplot as plt\n",
    "from sklearn.metrics import silhouette_score\n",
    "from AutoClass import AutoClassImpute,take_norm,find_hv_genes\n",
    "from sklearn.decomposition import PCA\n",
    "from sklearn.manifold import TSNE"
   ]
  },
  {
   "cell_type": "code",
   "execution_count": 3,
   "id": "7df56710",
   "metadata": {},
   "outputs": [],
   "source": [
    "expr = pd.read_csv('counts.csv',index_col=0)\n",
    "X = expr.values"
   ]
  },
  {
   "cell_type": "code",
   "execution_count": 4,
   "id": "7b74042d",
   "metadata": {},
   "outputs": [
    {
     "data": {
      "text/plain": [
       "(500, 938)"
      ]
     },
     "execution_count": 4,
     "metadata": {},
     "output_type": "execute_result"
    }
   ],
   "source": [
    "expr.shape"
   ]
  },
  {
   "cell_type": "code",
   "execution_count": 5,
   "id": "f65800f2",
   "metadata": {},
   "outputs": [
    {
     "data": {
      "text/html": [
       "<div>\n",
       "<style scoped>\n",
       "    .dataframe tbody tr th:only-of-type {\n",
       "        vertical-align: middle;\n",
       "    }\n",
       "\n",
       "    .dataframe tbody tr th {\n",
       "        vertical-align: top;\n",
       "    }\n",
       "\n",
       "    .dataframe thead th {\n",
       "        text-align: right;\n",
       "    }\n",
       "</style>\n",
       "<table border=\"1\" class=\"dataframe\">\n",
       "  <thead>\n",
       "    <tr style=\"text-align: right;\">\n",
       "      <th></th>\n",
       "      <th>Gene2</th>\n",
       "      <th>Gene3</th>\n",
       "      <th>Gene5</th>\n",
       "      <th>Gene6</th>\n",
       "      <th>Gene7</th>\n",
       "      <th>Gene8</th>\n",
       "      <th>Gene9</th>\n",
       "      <th>Gene10</th>\n",
       "      <th>Gene11</th>\n",
       "      <th>Gene12</th>\n",
       "      <th>...</th>\n",
       "      <th>Gene991</th>\n",
       "      <th>Gene992</th>\n",
       "      <th>Gene993</th>\n",
       "      <th>Gene994</th>\n",
       "      <th>Gene995</th>\n",
       "      <th>Gene996</th>\n",
       "      <th>Gene997</th>\n",
       "      <th>Gene998</th>\n",
       "      <th>Gene999</th>\n",
       "      <th>Gene1000</th>\n",
       "    </tr>\n",
       "  </thead>\n",
       "  <tbody>\n",
       "    <tr>\n",
       "      <th>Cell1</th>\n",
       "      <td>0</td>\n",
       "      <td>11</td>\n",
       "      <td>26</td>\n",
       "      <td>0</td>\n",
       "      <td>20</td>\n",
       "      <td>12</td>\n",
       "      <td>0</td>\n",
       "      <td>0</td>\n",
       "      <td>21</td>\n",
       "      <td>0</td>\n",
       "      <td>...</td>\n",
       "      <td>24</td>\n",
       "      <td>0</td>\n",
       "      <td>8</td>\n",
       "      <td>457</td>\n",
       "      <td>72</td>\n",
       "      <td>13</td>\n",
       "      <td>22</td>\n",
       "      <td>21</td>\n",
       "      <td>34</td>\n",
       "      <td>23</td>\n",
       "    </tr>\n",
       "    <tr>\n",
       "      <th>Cell2</th>\n",
       "      <td>0</td>\n",
       "      <td>21</td>\n",
       "      <td>20</td>\n",
       "      <td>27</td>\n",
       "      <td>12</td>\n",
       "      <td>0</td>\n",
       "      <td>0</td>\n",
       "      <td>0</td>\n",
       "      <td>23</td>\n",
       "      <td>51</td>\n",
       "      <td>...</td>\n",
       "      <td>54</td>\n",
       "      <td>20</td>\n",
       "      <td>17</td>\n",
       "      <td>656</td>\n",
       "      <td>49</td>\n",
       "      <td>29</td>\n",
       "      <td>25</td>\n",
       "      <td>35</td>\n",
       "      <td>0</td>\n",
       "      <td>26</td>\n",
       "    </tr>\n",
       "    <tr>\n",
       "      <th>Cell3</th>\n",
       "      <td>12</td>\n",
       "      <td>16</td>\n",
       "      <td>24</td>\n",
       "      <td>15</td>\n",
       "      <td>18</td>\n",
       "      <td>13</td>\n",
       "      <td>0</td>\n",
       "      <td>3</td>\n",
       "      <td>24</td>\n",
       "      <td>36</td>\n",
       "      <td>...</td>\n",
       "      <td>48</td>\n",
       "      <td>11</td>\n",
       "      <td>0</td>\n",
       "      <td>482</td>\n",
       "      <td>21</td>\n",
       "      <td>17</td>\n",
       "      <td>13</td>\n",
       "      <td>19</td>\n",
       "      <td>28</td>\n",
       "      <td>19</td>\n",
       "    </tr>\n",
       "    <tr>\n",
       "      <th>Cell4</th>\n",
       "      <td>15</td>\n",
       "      <td>21</td>\n",
       "      <td>17</td>\n",
       "      <td>21</td>\n",
       "      <td>24</td>\n",
       "      <td>14</td>\n",
       "      <td>0</td>\n",
       "      <td>0</td>\n",
       "      <td>41</td>\n",
       "      <td>0</td>\n",
       "      <td>...</td>\n",
       "      <td>64</td>\n",
       "      <td>0</td>\n",
       "      <td>0</td>\n",
       "      <td>630</td>\n",
       "      <td>52</td>\n",
       "      <td>0</td>\n",
       "      <td>31</td>\n",
       "      <td>52</td>\n",
       "      <td>27</td>\n",
       "      <td>43</td>\n",
       "    </tr>\n",
       "    <tr>\n",
       "      <th>Cell5</th>\n",
       "      <td>24</td>\n",
       "      <td>37</td>\n",
       "      <td>22</td>\n",
       "      <td>71</td>\n",
       "      <td>10</td>\n",
       "      <td>46</td>\n",
       "      <td>0</td>\n",
       "      <td>0</td>\n",
       "      <td>45</td>\n",
       "      <td>48</td>\n",
       "      <td>...</td>\n",
       "      <td>37</td>\n",
       "      <td>0</td>\n",
       "      <td>11</td>\n",
       "      <td>677</td>\n",
       "      <td>102</td>\n",
       "      <td>32</td>\n",
       "      <td>41</td>\n",
       "      <td>29</td>\n",
       "      <td>29</td>\n",
       "      <td>35</td>\n",
       "    </tr>\n",
       "    <tr>\n",
       "      <th>...</th>\n",
       "      <td>...</td>\n",
       "      <td>...</td>\n",
       "      <td>...</td>\n",
       "      <td>...</td>\n",
       "      <td>...</td>\n",
       "      <td>...</td>\n",
       "      <td>...</td>\n",
       "      <td>...</td>\n",
       "      <td>...</td>\n",
       "      <td>...</td>\n",
       "      <td>...</td>\n",
       "      <td>...</td>\n",
       "      <td>...</td>\n",
       "      <td>...</td>\n",
       "      <td>...</td>\n",
       "      <td>...</td>\n",
       "      <td>...</td>\n",
       "      <td>...</td>\n",
       "      <td>...</td>\n",
       "      <td>...</td>\n",
       "      <td>...</td>\n",
       "    </tr>\n",
       "    <tr>\n",
       "      <th>Cell496</th>\n",
       "      <td>14</td>\n",
       "      <td>42</td>\n",
       "      <td>16</td>\n",
       "      <td>36</td>\n",
       "      <td>26</td>\n",
       "      <td>0</td>\n",
       "      <td>0</td>\n",
       "      <td>8</td>\n",
       "      <td>27</td>\n",
       "      <td>49</td>\n",
       "      <td>...</td>\n",
       "      <td>34</td>\n",
       "      <td>0</td>\n",
       "      <td>11</td>\n",
       "      <td>721</td>\n",
       "      <td>81</td>\n",
       "      <td>34</td>\n",
       "      <td>23</td>\n",
       "      <td>37</td>\n",
       "      <td>41</td>\n",
       "      <td>43</td>\n",
       "    </tr>\n",
       "    <tr>\n",
       "      <th>Cell497</th>\n",
       "      <td>0</td>\n",
       "      <td>20</td>\n",
       "      <td>0</td>\n",
       "      <td>11</td>\n",
       "      <td>26</td>\n",
       "      <td>19</td>\n",
       "      <td>5</td>\n",
       "      <td>0</td>\n",
       "      <td>13</td>\n",
       "      <td>33</td>\n",
       "      <td>...</td>\n",
       "      <td>60</td>\n",
       "      <td>37</td>\n",
       "      <td>0</td>\n",
       "      <td>491</td>\n",
       "      <td>62</td>\n",
       "      <td>25</td>\n",
       "      <td>18</td>\n",
       "      <td>71</td>\n",
       "      <td>16</td>\n",
       "      <td>35</td>\n",
       "    </tr>\n",
       "    <tr>\n",
       "      <th>Cell498</th>\n",
       "      <td>0</td>\n",
       "      <td>21</td>\n",
       "      <td>0</td>\n",
       "      <td>26</td>\n",
       "      <td>0</td>\n",
       "      <td>11</td>\n",
       "      <td>0</td>\n",
       "      <td>0</td>\n",
       "      <td>0</td>\n",
       "      <td>50</td>\n",
       "      <td>...</td>\n",
       "      <td>48</td>\n",
       "      <td>6</td>\n",
       "      <td>0</td>\n",
       "      <td>634</td>\n",
       "      <td>70</td>\n",
       "      <td>29</td>\n",
       "      <td>24</td>\n",
       "      <td>24</td>\n",
       "      <td>40</td>\n",
       "      <td>0</td>\n",
       "    </tr>\n",
       "    <tr>\n",
       "      <th>Cell499</th>\n",
       "      <td>0</td>\n",
       "      <td>23</td>\n",
       "      <td>13</td>\n",
       "      <td>36</td>\n",
       "      <td>28</td>\n",
       "      <td>14</td>\n",
       "      <td>0</td>\n",
       "      <td>0</td>\n",
       "      <td>56</td>\n",
       "      <td>19</td>\n",
       "      <td>...</td>\n",
       "      <td>50</td>\n",
       "      <td>0</td>\n",
       "      <td>9</td>\n",
       "      <td>689</td>\n",
       "      <td>83</td>\n",
       "      <td>17</td>\n",
       "      <td>32</td>\n",
       "      <td>27</td>\n",
       "      <td>21</td>\n",
       "      <td>35</td>\n",
       "    </tr>\n",
       "    <tr>\n",
       "      <th>Cell500</th>\n",
       "      <td>11</td>\n",
       "      <td>17</td>\n",
       "      <td>22</td>\n",
       "      <td>0</td>\n",
       "      <td>23</td>\n",
       "      <td>17</td>\n",
       "      <td>0</td>\n",
       "      <td>0</td>\n",
       "      <td>40</td>\n",
       "      <td>30</td>\n",
       "      <td>...</td>\n",
       "      <td>42</td>\n",
       "      <td>0</td>\n",
       "      <td>13</td>\n",
       "      <td>484</td>\n",
       "      <td>82</td>\n",
       "      <td>11</td>\n",
       "      <td>21</td>\n",
       "      <td>27</td>\n",
       "      <td>0</td>\n",
       "      <td>15</td>\n",
       "    </tr>\n",
       "  </tbody>\n",
       "</table>\n",
       "<p>500 rows × 938 columns</p>\n",
       "</div>"
      ],
      "text/plain": [
       "         Gene2  Gene3  Gene5  Gene6  Gene7  Gene8  Gene9  Gene10  Gene11  \\\n",
       "Cell1        0     11     26      0     20     12      0       0      21   \n",
       "Cell2        0     21     20     27     12      0      0       0      23   \n",
       "Cell3       12     16     24     15     18     13      0       3      24   \n",
       "Cell4       15     21     17     21     24     14      0       0      41   \n",
       "Cell5       24     37     22     71     10     46      0       0      45   \n",
       "...        ...    ...    ...    ...    ...    ...    ...     ...     ...   \n",
       "Cell496     14     42     16     36     26      0      0       8      27   \n",
       "Cell497      0     20      0     11     26     19      5       0      13   \n",
       "Cell498      0     21      0     26      0     11      0       0       0   \n",
       "Cell499      0     23     13     36     28     14      0       0      56   \n",
       "Cell500     11     17     22      0     23     17      0       0      40   \n",
       "\n",
       "         Gene12  ...  Gene991  Gene992  Gene993  Gene994  Gene995  Gene996  \\\n",
       "Cell1         0  ...       24        0        8      457       72       13   \n",
       "Cell2        51  ...       54       20       17      656       49       29   \n",
       "Cell3        36  ...       48       11        0      482       21       17   \n",
       "Cell4         0  ...       64        0        0      630       52        0   \n",
       "Cell5        48  ...       37        0       11      677      102       32   \n",
       "...         ...  ...      ...      ...      ...      ...      ...      ...   \n",
       "Cell496      49  ...       34        0       11      721       81       34   \n",
       "Cell497      33  ...       60       37        0      491       62       25   \n",
       "Cell498      50  ...       48        6        0      634       70       29   \n",
       "Cell499      19  ...       50        0        9      689       83       17   \n",
       "Cell500      30  ...       42        0       13      484       82       11   \n",
       "\n",
       "         Gene997  Gene998  Gene999  Gene1000  \n",
       "Cell1         22       21       34        23  \n",
       "Cell2         25       35        0        26  \n",
       "Cell3         13       19       28        19  \n",
       "Cell4         31       52       27        43  \n",
       "Cell5         41       29       29        35  \n",
       "...          ...      ...      ...       ...  \n",
       "Cell496       23       37       41        43  \n",
       "Cell497       18       71       16        35  \n",
       "Cell498       24       24       40         0  \n",
       "Cell499       32       27       21        35  \n",
       "Cell500       21       27        0        15  \n",
       "\n",
       "[500 rows x 938 columns]"
      ]
     },
     "execution_count": 5,
     "metadata": {},
     "output_type": "execute_result"
    }
   ],
   "source": [
    "expr"
   ]
  },
  {
   "cell_type": "code",
   "execution_count": 5,
   "id": "2aef2d07",
   "metadata": {},
   "outputs": [
    {
     "name": "stdout",
     "output_type": "stream",
     "text": [
      "500 cells and 938 genes\n",
      "number of clusters in pre-clustering:[8, 9, 10]\n",
      "n_cluster = 8...\n"
     ]
    },
    {
     "name": "stderr",
     "output_type": "stream",
     "text": [
      "/usr/local/lib/python3.8/dist-packages/sklearn/cluster/_kmeans.py:870: FutureWarning: The default value of `n_init` will change from 10 to 'auto' in 1.4. Set the value of `n_init` explicitly to suppress the warning\n",
      "  warnings.warn(\n",
      "2023-05-29 19:19:40.821952: W tensorflow/core/common_runtime/gpu/gpu_device.cc:1956] Cannot dlopen some GPU libraries. Please make sure the missing libraries mentioned above are installed properly if you would like to use GPU. Follow the guide at https://www.tensorflow.org/install/gpu for how to download and setup the required libraries for your platform.\n",
      "Skipping registering GPU devices...\n"
     ]
    },
    {
     "name": "stdout",
     "output_type": "stream",
     "text": [
      "16/16 [==============================] - 0s 1ms/step\n",
      "n_cluster = 9...\n"
     ]
    },
    {
     "name": "stderr",
     "output_type": "stream",
     "text": [
      "/usr/local/lib/python3.8/dist-packages/sklearn/cluster/_kmeans.py:870: FutureWarning: The default value of `n_init` will change from 10 to 'auto' in 1.4. Set the value of `n_init` explicitly to suppress the warning\n",
      "  warnings.warn(\n"
     ]
    },
    {
     "name": "stdout",
     "output_type": "stream",
     "text": [
      "16/16 [==============================] - 0s 1ms/step\n",
      "n_cluster = 10...\n"
     ]
    },
    {
     "name": "stderr",
     "output_type": "stream",
     "text": [
      "/usr/local/lib/python3.8/dist-packages/sklearn/cluster/_kmeans.py:870: FutureWarning: The default value of `n_init` will change from 10 to 'auto' in 1.4. Set the value of `n_init` explicitly to suppress the warning\n",
      "  warnings.warn(\n"
     ]
    },
    {
     "name": "stdout",
     "output_type": "stream",
     "text": [
      "16/16 [==============================] - 0s 1ms/step\n",
      "escape time is: 35.21527123451233\n"
     ]
    }
   ],
   "source": [
    "res = AutoClassImpute(X)\n",
    "imp = res['imp']"
   ]
  },
  {
   "cell_type": "code",
   "execution_count": 6,
   "id": "9fb8adfe",
   "metadata": {},
   "outputs": [],
   "source": [
    "PCA_imp = PCA(n_components=50).fit_transform(imp)\n",
    "tsne_imp = TSNE(n_components=2).fit_transform(PCA_imp)"
   ]
  },
  {
   "cell_type": "code",
   "execution_count": 7,
   "id": "7678d106",
   "metadata": {},
   "outputs": [
    {
     "data": {
      "text/plain": [
       "Text(0, 0.5, 'tSNE2')"
      ]
     },
     "execution_count": 7,
     "metadata": {},
     "output_type": "execute_result"
    },
    {
     "data": {
      "image/png": "[encoded data removed]",
      "text/plain": [
       "<Figure size 640x480 with 1 Axes>"
      ]
     },
     "metadata": {},
     "output_type": "display_data"
    }
   ],
   "source": [
    "plt.scatter(tsne_imp[:, 0], tsne_imp[:, 1], s=10)\n",
    "plt.title('Imputation by AutoClass')\n",
    "plt.xticks([],[])\n",
    "plt.yticks([],[])\n",
    "plt.xlabel('tSNE1')\n",
    "plt.ylabel('tSNE2')"
   ]
  },
  {
   "cell_type": "code",
   "execution_count": 2,
   "id": "9d9976f6",
   "metadata": {},
   "outputs": [],
   "source": [
    "import scanpy as sc\n",
    "ad = sc.read_h5ad(\"data/SEAAD_MTG_RNAseq_final-nuclei.2023-05-05.h5ad\", backed=\"r\")"
   ]
  },
  {
   "cell_type": "code",
   "execution_count": 3,
   "id": "934adabc",
   "metadata": {},
   "outputs": [
    {
     "name": "stderr",
     "output_type": "stream",
     "text": [
      "/tmp/ipykernel_745493/2794323756.py:8: PerformanceWarning: DataFrame is highly fragmented.  This is usually the result of calling `frame.insert` many times, which has poor performance.  Consider joining all columns at once using pd.concat(axis=1) instead. To get a de-fragmented frame, use `newframe = frame.copy()`\n",
      "  obs[i] = np.array(f[\"obs\"][i])\n",
      "/tmp/ipykernel_745493/2794323756.py:8: PerformanceWarning: DataFrame is highly fragmented.  This is usually the result of calling `frame.insert` many times, which has poor performance.  Consider joining all columns at once using pd.concat(axis=1) instead. To get a de-fragmented frame, use `newframe = frame.copy()`\n",
      "  obs[i] = np.array(f[\"obs\"][i])\n",
      "/tmp/ipykernel_745493/2794323756.py:8: PerformanceWarning: DataFrame is highly fragmented.  This is usually the result of calling `frame.insert` many times, which has poor performance.  Consider joining all columns at once using pd.concat(axis=1) instead. To get a de-fragmented frame, use `newframe = frame.copy()`\n",
      "  obs[i] = np.array(f[\"obs\"][i])\n",
      "/tmp/ipykernel_745493/2794323756.py:8: PerformanceWarning: DataFrame is highly fragmented.  This is usually the result of calling `frame.insert` many times, which has poor performance.  Consider joining all columns at once using pd.concat(axis=1) instead. To get a de-fragmented frame, use `newframe = frame.copy()`\n",
      "  obs[i] = np.array(f[\"obs\"][i])\n",
      "/tmp/ipykernel_745493/2794323756.py:8: PerformanceWarning: DataFrame is highly fragmented.  This is usually the result of calling `frame.insert` many times, which has poor performance.  Consider joining all columns at once using pd.concat(axis=1) instead. To get a de-fragmented frame, use `newframe = frame.copy()`\n",
      "  obs[i] = np.array(f[\"obs\"][i])\n",
      "/tmp/ipykernel_745493/2794323756.py:8: PerformanceWarning: DataFrame is highly fragmented.  This is usually the result of calling `frame.insert` many times, which has poor performance.  Consider joining all columns at once using pd.concat(axis=1) instead. To get a de-fragmented frame, use `newframe = frame.copy()`\n",
      "  obs[i] = np.array(f[\"obs\"][i])\n",
      "/tmp/ipykernel_745493/2794323756.py:8: PerformanceWarning: DataFrame is highly fragmented.  This is usually the result of calling `frame.insert` many times, which has poor performance.  Consider joining all columns at once using pd.concat(axis=1) instead. To get a de-fragmented frame, use `newframe = frame.copy()`\n",
      "  obs[i] = np.array(f[\"obs\"][i])\n",
      "/tmp/ipykernel_745493/2794323756.py:8: PerformanceWarning: DataFrame is highly fragmented.  This is usually the result of calling `frame.insert` many times, which has poor performance.  Consider joining all columns at once using pd.concat(axis=1) instead. To get a de-fragmented frame, use `newframe = frame.copy()`\n",
      "  obs[i] = np.array(f[\"obs\"][i])\n",
      "/tmp/ipykernel_745493/2794323756.py:8: PerformanceWarning: DataFrame is highly fragmented.  This is usually the result of calling `frame.insert` many times, which has poor performance.  Consider joining all columns at once using pd.concat(axis=1) instead. To get a de-fragmented frame, use `newframe = frame.copy()`\n",
      "  obs[i] = np.array(f[\"obs\"][i])\n",
      "/tmp/ipykernel_745493/2794323756.py:8: PerformanceWarning: DataFrame is highly fragmented.  This is usually the result of calling `frame.insert` many times, which has poor performance.  Consider joining all columns at once using pd.concat(axis=1) instead. To get a de-fragmented frame, use `newframe = frame.copy()`\n",
      "  obs[i] = np.array(f[\"obs\"][i])\n",
      "/tmp/ipykernel_745493/2794323756.py:8: PerformanceWarning: DataFrame is highly fragmented.  This is usually the result of calling `frame.insert` many times, which has poor performance.  Consider joining all columns at once using pd.concat(axis=1) instead. To get a de-fragmented frame, use `newframe = frame.copy()`\n",
      "  obs[i] = np.array(f[\"obs\"][i])\n",
      "/tmp/ipykernel_745493/2794323756.py:8: PerformanceWarning: DataFrame is highly fragmented.  This is usually the result of calling `frame.insert` many times, which has poor performance.  Consider joining all columns at once using pd.concat(axis=1) instead. To get a de-fragmented frame, use `newframe = frame.copy()`\n",
      "  obs[i] = np.array(f[\"obs\"][i])\n",
      "/tmp/ipykernel_745493/2794323756.py:8: PerformanceWarning: DataFrame is highly fragmented.  This is usually the result of calling `frame.insert` many times, which has poor performance.  Consider joining all columns at once using pd.concat(axis=1) instead. To get a de-fragmented frame, use `newframe = frame.copy()`\n",
      "  obs[i] = np.array(f[\"obs\"][i])\n",
      "/tmp/ipykernel_745493/2794323756.py:8: PerformanceWarning: DataFrame is highly fragmented.  This is usually the result of calling `frame.insert` many times, which has poor performance.  Consider joining all columns at once using pd.concat(axis=1) instead. To get a de-fragmented frame, use `newframe = frame.copy()`\n",
      "  obs[i] = np.array(f[\"obs\"][i])\n",
      "/tmp/ipykernel_745493/2794323756.py:8: PerformanceWarning: DataFrame is highly fragmented.  This is usually the result of calling `frame.insert` many times, which has poor performance.  Consider joining all columns at once using pd.concat(axis=1) instead. To get a de-fragmented frame, use `newframe = frame.copy()`\n",
      "  obs[i] = np.array(f[\"obs\"][i])\n",
      "/tmp/ipykernel_745493/2794323756.py:8: PerformanceWarning: DataFrame is highly fragmented.  This is usually the result of calling `frame.insert` many times, which has poor performance.  Consider joining all columns at once using pd.concat(axis=1) instead. To get a de-fragmented frame, use `newframe = frame.copy()`\n",
      "  obs[i] = np.array(f[\"obs\"][i])\n",
      "/tmp/ipykernel_745493/2794323756.py:8: PerformanceWarning: DataFrame is highly fragmented.  This is usually the result of calling `frame.insert` many times, which has poor performance.  Consider joining all columns at once using pd.concat(axis=1) instead. To get a de-fragmented frame, use `newframe = frame.copy()`\n",
      "  obs[i] = np.array(f[\"obs\"][i])\n",
      "/tmp/ipykernel_745493/2794323756.py:8: PerformanceWarning: DataFrame is highly fragmented.  This is usually the result of calling `frame.insert` many times, which has poor performance.  Consider joining all columns at once using pd.concat(axis=1) instead. To get a de-fragmented frame, use `newframe = frame.copy()`\n",
      "  obs[i] = np.array(f[\"obs\"][i])\n",
      "/tmp/ipykernel_745493/2794323756.py:8: PerformanceWarning: DataFrame is highly fragmented.  This is usually the result of calling `frame.insert` many times, which has poor performance.  Consider joining all columns at once using pd.concat(axis=1) instead. To get a de-fragmented frame, use `newframe = frame.copy()`\n",
      "  obs[i] = np.array(f[\"obs\"][i])\n",
      "/tmp/ipykernel_745493/2794323756.py:8: PerformanceWarning: DataFrame is highly fragmented.  This is usually the result of calling `frame.insert` many times, which has poor performance.  Consider joining all columns at once using pd.concat(axis=1) instead. To get a de-fragmented frame, use `newframe = frame.copy()`\n",
      "  obs[i] = np.array(f[\"obs\"][i])\n",
      "/tmp/ipykernel_745493/2794323756.py:8: PerformanceWarning: DataFrame is highly fragmented.  This is usually the result of calling `frame.insert` many times, which has poor performance.  Consider joining all columns at once using pd.concat(axis=1) instead. To get a de-fragmented frame, use `newframe = frame.copy()`\n",
      "  obs[i] = np.array(f[\"obs\"][i])\n",
      "/tmp/ipykernel_745493/2794323756.py:8: PerformanceWarning: DataFrame is highly fragmented.  This is usually the result of calling `frame.insert` many times, which has poor performance.  Consider joining all columns at once using pd.concat(axis=1) instead. To get a de-fragmented frame, use `newframe = frame.copy()`\n",
      "  obs[i] = np.array(f[\"obs\"][i])\n",
      "/tmp/ipykernel_745493/2794323756.py:8: PerformanceWarning: DataFrame is highly fragmented.  This is usually the result of calling `frame.insert` many times, which has poor performance.  Consider joining all columns at once using pd.concat(axis=1) instead. To get a de-fragmented frame, use `newframe = frame.copy()`\n",
      "  obs[i] = np.array(f[\"obs\"][i])\n",
      "/tmp/ipykernel_745493/2794323756.py:8: PerformanceWarning: DataFrame is highly fragmented.  This is usually the result of calling `frame.insert` many times, which has poor performance.  Consider joining all columns at once using pd.concat(axis=1) instead. To get a de-fragmented frame, use `newframe = frame.copy()`\n",
      "  obs[i] = np.array(f[\"obs\"][i])\n",
      "/tmp/ipykernel_745493/2794323756.py:8: PerformanceWarning: DataFrame is highly fragmented.  This is usually the result of calling `frame.insert` many times, which has poor performance.  Consider joining all columns at once using pd.concat(axis=1) instead. To get a de-fragmented frame, use `newframe = frame.copy()`\n",
      "  obs[i] = np.array(f[\"obs\"][i])\n",
      "/tmp/ipykernel_745493/2794323756.py:8: PerformanceWarning: DataFrame is highly fragmented.  This is usually the result of calling `frame.insert` many times, which has poor performance.  Consider joining all columns at once using pd.concat(axis=1) instead. To get a de-fragmented frame, use `newframe = frame.copy()`\n",
      "  obs[i] = np.array(f[\"obs\"][i])\n",
      "/tmp/ipykernel_745493/2794323756.py:8: PerformanceWarning: DataFrame is highly fragmented.  This is usually the result of calling `frame.insert` many times, which has poor performance.  Consider joining all columns at once using pd.concat(axis=1) instead. To get a de-fragmented frame, use `newframe = frame.copy()`\n",
      "  obs[i] = np.array(f[\"obs\"][i])\n",
      "/tmp/ipykernel_745493/2794323756.py:8: PerformanceWarning: DataFrame is highly fragmented.  This is usually the result of calling `frame.insert` many times, which has poor performance.  Consider joining all columns at once using pd.concat(axis=1) instead. To get a de-fragmented frame, use `newframe = frame.copy()`\n",
      "  obs[i] = np.array(f[\"obs\"][i])\n",
      "/tmp/ipykernel_745493/2794323756.py:8: PerformanceWarning: DataFrame is highly fragmented.  This is usually the result of calling `frame.insert` many times, which has poor performance.  Consider joining all columns at once using pd.concat(axis=1) instead. To get a de-fragmented frame, use `newframe = frame.copy()`\n",
      "  obs[i] = np.array(f[\"obs\"][i])\n",
      "/tmp/ipykernel_745493/2794323756.py:8: PerformanceWarning: DataFrame is highly fragmented.  This is usually the result of calling `frame.insert` many times, which has poor performance.  Consider joining all columns at once using pd.concat(axis=1) instead. To get a de-fragmented frame, use `newframe = frame.copy()`\n",
      "  obs[i] = np.array(f[\"obs\"][i])\n",
      "/tmp/ipykernel_745493/2794323756.py:8: PerformanceWarning: DataFrame is highly fragmented.  This is usually the result of calling `frame.insert` many times, which has poor performance.  Consider joining all columns at once using pd.concat(axis=1) instead. To get a de-fragmented frame, use `newframe = frame.copy()`\n",
      "  obs[i] = np.array(f[\"obs\"][i])\n",
      "/tmp/ipykernel_745493/2794323756.py:8: PerformanceWarning: DataFrame is highly fragmented.  This is usually the result of calling `frame.insert` many times, which has poor performance.  Consider joining all columns at once using pd.concat(axis=1) instead. To get a de-fragmented frame, use `newframe = frame.copy()`\n",
      "  obs[i] = np.array(f[\"obs\"][i])\n"
     ]
    }
   ],
   "source": [
    "import h5py\n",
    "f = h5py.File(\"data/SEAAD_MTG_RNAseq_final-nuclei.2023-05-05.h5ad\")\n",
    "\n",
    "obs = pd.DataFrame()\n",
    "for i in f[\"obs\"].keys():\n",
    "    #print(i)\n",
    "    if i not in [\"Hispanic\", \"Race (choice=American Indian\", \"Race (choice=Black\", \"__categories\"]:\n",
    "        obs[i] = np.array(f[\"obs\"][i])"
   ]
  },
  {
   "cell_type": "code",
   "execution_count": 4,
   "id": "549ccb81",
   "metadata": {},
   "outputs": [
    {
     "name": "stdout",
     "output_type": "stream",
     "text": [
      "(2000, 36601)\n",
      "(1158, 36601)\n"
     ]
    },
    {
     "name": "stderr",
     "output_type": "stream",
     "text": [
      "/usr/local/lib/python3.8/dist-packages/scanpy/preprocessing/_simple.py:140: PerformanceWarning: DataFrame is highly fragmented.  This is usually the result of calling `frame.insert` many times, which has poor performance.  Consider joining all columns at once using pd.concat(axis=1) instead. To get a de-fragmented frame, use `newframe = frame.copy()`\n",
      "  adata.obs['n_genes'] = number\n",
      "/usr/local/lib/python3.8/dist-packages/anndata/_core/anndata.py:117: ImplicitModificationWarning: Transforming to str index.\n",
      "  warnings.warn(\"Transforming to str index.\", ImplicitModificationWarning)\n"
     ]
    },
    {
     "name": "stdout",
     "output_type": "stream",
     "text": [
      "(1158, 5614)\n"
     ]
    }
   ],
   "source": [
    "import anndata\n",
    "\n",
    "min_genes_per_cell = 200 # Filter out cells with fewer genes than this expressed \n",
    "max_genes_per_cell = 6000 # Filter out cells with more genes than this expressed\n",
    "\n",
    "set_cells = list()\n",
    "chunk_size = 2000\n",
    "for chunk, start, end in ad.chunked_X(chunk_size):\n",
    "    adata = anndata.AnnData(chunk)\n",
    "    obs = obs[:chunk_size]\n",
    "    adata.obs = obs\n",
    "    print(adata.shape)\n",
    "    sc.pp.filter_cells(adata, min_genes=min_genes_per_cell, inplace=True)\n",
    "    sc.pp.filter_cells(adata, max_genes=max_genes_per_cell, inplace=True)\n",
    "    print(adata.shape)\n",
    "    sc.pp.highly_variable_genes(adata, inplace=True)\n",
    "    adata = adata[:, adata.var.highly_variable]\n",
    "    #print(adata[adata.obs[\"highly_variable\"] == True])\n",
    "    print(adata.shape)\n",
    "    break\n",
    "\n",
    "Y = adata.obs[\"Subclass\"] #cell type label\n",
    "unique_class = np.unique(Y)\n",
    "KK = len(unique_class) \n"
   ]
  },
  {
   "cell_type": "code",
   "execution_count": 5,
   "id": "f76469b8",
   "metadata": {},
   "outputs": [],
   "source": [
    "X = adata.X.toarray()"
   ]
  },
  {
   "cell_type": "code",
   "execution_count": 6,
   "id": "46851a5d",
   "metadata": {},
   "outputs": [],
   "source": [
    "del ad"
   ]
  },
  {
   "cell_type": "code",
   "execution_count": 13,
   "id": "695a0600",
   "metadata": {},
   "outputs": [
    {
     "data": {
      "image/png": "[encoded data removed]",
      "text/plain": [
       "<Figure size 400x400 with 1 Axes>"
      ]
     },
     "metadata": {},
     "output_type": "display_data"
    }
   ],
   "source": [
    "X_norm = take_norm(X)\n",
    "\n",
    "PCA_raw = PCA(n_components=50).fit_transform(X_norm)\n",
    "tsne_raw = TSNE(n_components=2).fit_transform(PCA_raw)\n",
    "\n",
    "fig = plt.figure(figsize=(4,4))\n",
    "for i in range(KK):\n",
    "    plt.scatter(tsne_raw[Y==unique_class[i],0],\n",
    "                tsne_raw[Y==unique_class[i],1], \n",
    "                s=10,label = unique_class[i] )"
   ]
  },
  {
   "cell_type": "code",
   "execution_count": 14,
   "id": "a90eca68",
   "metadata": {},
   "outputs": [
    {
     "name": "stdout",
     "output_type": "stream",
     "text": [
      "1158 cells and 5614 genes\n",
      "number of clusters in pre-clustering:[21, 22, 23]\n",
      "n_cluster = 21...\n"
     ]
    },
    {
     "name": "stderr",
     "output_type": "stream",
     "text": [
      "/usr/local/lib/python3.8/dist-packages/sklearn/cluster/_kmeans.py:870: FutureWarning: The default value of `n_init` will change from 10 to 'auto' in 1.4. Set the value of `n_init` explicitly to suppress the warning\n",
      "  warnings.warn(\n"
     ]
    },
    {
     "name": "stdout",
     "output_type": "stream",
     "text": [
      "37/37 [==============================] - 0s 2ms/step\n",
      "n_cluster = 22...\n"
     ]
    },
    {
     "name": "stderr",
     "output_type": "stream",
     "text": [
      "/usr/local/lib/python3.8/dist-packages/sklearn/cluster/_kmeans.py:870: FutureWarning: The default value of `n_init` will change from 10 to 'auto' in 1.4. Set the value of `n_init` explicitly to suppress the warning\n",
      "  warnings.warn(\n"
     ]
    },
    {
     "name": "stdout",
     "output_type": "stream",
     "text": [
      "37/37 [==============================] - 0s 2ms/step\n",
      "n_cluster = 23...\n"
     ]
    },
    {
     "name": "stderr",
     "output_type": "stream",
     "text": [
      "/usr/local/lib/python3.8/dist-packages/sklearn/cluster/_kmeans.py:870: FutureWarning: The default value of `n_init` will change from 10 to 'auto' in 1.4. Set the value of `n_init` explicitly to suppress the warning\n",
      "  warnings.warn(\n"
     ]
    },
    {
     "name": "stdout",
     "output_type": "stream",
     "text": [
      "37/37 [==============================] - 0s 1ms/step\n",
      "escape time is: 53.51564621925354\n"
     ]
    }
   ],
   "source": [
    "res = AutoClassImpute(X, num_cluster=KK)\n",
    "imp = res['imp']"
   ]
  },
  {
   "cell_type": "code",
   "execution_count": 15,
   "id": "24fcf0c6",
   "metadata": {},
   "outputs": [
    {
     "data": {
      "text/plain": [
       "Text(0, 0.5, 'tSNE2')"
      ]
     },
     "execution_count": 15,
     "metadata": {},
     "output_type": "execute_result"
    },
    {
     "data": {
      "image/png": "[encoded data removed]",
      "text/plain": [
       "<Figure size 400x400 with 1 Axes>"
      ]
     },
     "metadata": {},
     "output_type": "display_data"
    }
   ],
   "source": [
    "PCA_imp = PCA(n_components=50).fit_transform(imp)\n",
    "tsne_imp = TSNE(n_components=2).fit_transform(PCA_imp)\n",
    "\n",
    "fig = plt.figure(figsize=(4,4))\n",
    "for i in range(KK):\n",
    "    plt.scatter(tsne_imp[Y==unique_class[i],0],\n",
    "                tsne_imp[Y==unique_class[i],1], \n",
    "                s=10,label = unique_class[i] ) \n",
    "plt.title('Imputation by AutoClass')\n",
    "plt.xticks([],[])\n",
    "plt.yticks([],[])\n",
    "plt.xlabel('tSNE1')\n",
    "plt.ylabel('tSNE2')"
   ]
  },
  {
   "cell_type": "code",
   "execution_count": 7,
   "id": "6b8000d6",
   "metadata": {},
   "outputs": [],
   "source": [
    "import torch\n",
    "import torch.nn as nn\n",
    "import torch.nn.functional as F\n",
    "import torch.optim as optim\n",
    "import pytorch_lightning as pl\n",
    "import time\n",
    "import numpy as np\n",
    "import pandas as pd\n",
    "from sklearn.cluster import KMeans\n",
    "from sklearn.decomposition import PCA\n",
    "from sklearn.preprocessing import StandardScaler\n",
    "device = torch.device(\"cuda:0\" if torch.cuda.is_available() else \"cpu\")"
   ]
  },
  {
   "cell_type": "code",
   "execution_count": 8,
   "id": "ac858d59",
   "metadata": {},
   "outputs": [],
   "source": [
    "def take_norm(self, data, cellwise_norm=True, log1p=True):\n",
    "    data_norm = data.copy()\n",
    "    data_norm = data_norm.astype('float32')\n",
    "    if cellwise_norm:\n",
    "        libs = data.sum(axis=1)\n",
    "        norm_factor = np.diag(np.median(libs) / libs)\n",
    "        data_norm = np.dot(norm_factor, data_norm)\n",
    "\n",
    "    if log1p:\n",
    "        data_norm = np.log2(data_norm + 1.)\n",
    "    return data_norm\n",
    "    \n",
    "def find_hv_genes(self, X, top=1000):\n",
    "    ngene = X.shape[1]\n",
    "    CV = []\n",
    "    for i in range(ngene):\n",
    "        x = X[:, i]\n",
    "        x = x[x != 0]\n",
    "        mu = np.mean(x)\n",
    "        var = np.var(x)\n",
    "        CV.append(var / mu)\n",
    "    CV = np.array(CV)\n",
    "    rank = CV.argsort()\n",
    "    hv_genes = np.arange(len(CV))[rank[:-1 * top - 1:-1]]\n",
    "    return hv_genes\n",
    "\n",
    "class AutoClass(nn.Module):\n",
    "    def __init__(self):\n",
    "        super(AutoClass, self).__init__()\n",
    "        self.encoder_layer_size = [128]\n",
    "        self.input_data = None\n",
    "        self.ncell = 0\n",
    "        self.ngene = 0\n",
    "        self.input_layer = None\n",
    "        self.neck_layer = None\n",
    "        self.decode_layer = None\n",
    "        self.classifier_layer = None\n",
    "        self.dropout_rate = 0\n",
    "        self.epochs = 300\n",
    "        self.classifier_weight = 0\n",
    "        self.n_clusters = 0\n",
    "        self.n_classes = 0\n",
    "        self.dummy_label = None\n",
    "        self.imp = 0\n",
    "        self.reg = 0\n",
    "        self.npc = 0\n",
    "        self.batch_size = 32\n",
    "        self.his = None\n",
    "        self.early_stopping = 30\n",
    "        self.reduce_lr = 15\n",
    "        self.verbose = 0\n",
    "        self.lr = 0.001\n",
    "        \n",
    "        self.len_layer = len(self.encoder_layer_size)\n",
    "        \n",
    "    def set_encoder_layer_size(self, size):\n",
    "        self.encoder_layer_size = size\n",
    "        self.len_layer = len(self.encoder_layer_size)\n",
    "    \n",
    "    def set_input_data(self, input_data):\n",
    "        self.input_data = input_data.astype(\"float32\")\n",
    "        self.ncell = input_data.shape[0]\n",
    "        self.ngene = input_data.shape[1]\n",
    "        \n",
    "    def set_dropout_rate(self, dropout_rate):\n",
    "        self.dropout_rate = dropout_rate\n",
    "    \n",
    "    def set_epochs(self, epochs):\n",
    "        self.epochs = epochs\n",
    "        \n",
    "    def set_classifier_weight(self, w):\n",
    "        self.classifier_weight = w\n",
    "    \n",
    "    def set_n_clusters(self, k):\n",
    "        self.n_clusters = k\n",
    "        \n",
    "    def set_n_classes(self, n):\n",
    "        self.n_classes = n\n",
    "        \n",
    "    def set_reg(self, reg):\n",
    "        self.reg = reg\n",
    "        \n",
    "    def set_truelabel(self, truelabel):#needs further building\n",
    "        n = len(truelabel)\n",
    "        assert n == self.ncell, \"length of true label should equal to number of cells\"\n",
    "        labelid = pd.factorize(truelabel)[0]\n",
    "        \n",
    "    def set_npc(self, npc):\n",
    "        assert npc <= min((self.ncell, self.ngene)), \"number of PCs should not exceed number of genes or cells\"\n",
    "        self.npc = npc\n",
    "    \n",
    "    def set_batch_size(self, batch_size):\n",
    "        self.batch_size = batch_size\n",
    "        \n",
    "    def set_early_stopping(self, es):\n",
    "        self.early_stopping = es\n",
    "        \n",
    "    def set_reduce_lr(self, reduce_lr):\n",
    "        self.reduce_lr = reduce_lr\n",
    "        \n",
    "    def set_verbose(self, verbose):\n",
    "        self.verbose = verbose\n",
    "        \n",
    "    def set_lr(self, lr):\n",
    "        self.lr = lr\n",
    "        \n",
    "    def _create_model(self):\n",
    "        \n",
    "        #encoder\n",
    "        self.encoders = nn.Sequential()\n",
    "        self.encoders.add_module(\"input_layer\", nn.Linear(self.ngene, self.encoder_layer_size[0]))\n",
    "        self.encoders.add_module(\"input_activation\", nn.ReLU())\n",
    "        for i in range(self.len_layer-1):\n",
    "            self.encoders.add_module(\"encoder_layer\" + str(i+1), nn.Linear(self.encoder_layer_size[i], self.encoder_layer_size[i+1]))\n",
    "            self.encoders.add_module(\"encoder_activation\" + str(i+1), nn.ReLU())\n",
    "        \n",
    "        #bottleneck\n",
    "        self.bottleneck_dropout = nn.Dropout(self.dropout_rate)\n",
    "        if False:#len(self.encoder_layer_size) > 1:\n",
    "            self.bottleneck_layer = nn.Linear(self.encoder_layer_size[-2], self.encoder_layer_size[-1])\n",
    "        else:\n",
    "            self.bottleneck_layer = nn.Linear(self.encoder_layer_size[-1], self.encoder_layer_size[-1])\n",
    "        self.bottleneck_activation = nn.ReLU()\n",
    "        \n",
    "        #decoder\n",
    "        self.decoders = nn.Sequential()\n",
    "        for i in reversed(range(self.len_layer-1)):\n",
    "            self.decoders.add_module(\"decoder_layer\" + str(i+1), nn.Linear(self.encoder_layer_size[i+1], self.encoder_layer_size[i]))\n",
    "            self.decoders.add_module(\"decoder_activation\" + str(i+1), nn.ReLU())\n",
    "        self.decoders.add_module(\"output_layer\", nn.Linear(self.encoder_layer_size[0], self.ngene))\n",
    "        self.decoders.add_module(\"output_activation\", nn.Softplus())\n",
    "        \n",
    "        #classifier\n",
    "        self.classifier_layer = nn.Linear(self.encoder_layer_size[-1], self.n_clusters)\n",
    "        self.classifier_activation = nn.Softmax(dim=-1)\n",
    "        \n",
    "    def to_categorical(self, y, num_classes):\n",
    "        \"\"\" 1-hot encodes a tensor \"\"\"\n",
    "        return np.eye(num_classes, dtype='uint8')[y]\n",
    "        \n",
    "    def cluster(self):\n",
    "        if self.n_clusters > 1:\n",
    "            n = np.min((self.ncell, self.ngene))\n",
    "            pca = PCA(n_components=n)\n",
    "            pcs = pca.fit_transform(self.input_data)\n",
    "            var = (pca.explained_variance_ratio_).cumsum()\n",
    "            npc_raw = (np.where(var > 0.7))[0].min()  # number of PC used in K-means\n",
    "            if npc_raw > self.npc:\n",
    "                npc_raw = self.npc\n",
    "            pcs = pcs[:, :npc_raw]\n",
    "            # K-means clustering on PCs\n",
    "            kmeans = KMeans(n_clusters=self.n_clusters, random_state=1).fit(StandardScaler().fit_transform(pcs))\n",
    "            clustering_label = kmeans.labels_\n",
    "            self.dummy_label = self.to_categorical(y=clustering_label, num_classes=len(np.unique(clustering_label)))\n",
    "    \n",
    "    def forward(self, x):\n",
    "        #input and encoder layer\n",
    "        x = self.encoders(x)\n",
    "        \n",
    "        #bottleneck\n",
    "        x = self.bottleneck_dropout(x)\n",
    "        x = self.bottleneck_activation(self.bottleneck_layer(x))\n",
    "        \n",
    "        #decoder and output layer\n",
    "        x_imp = self.decoders(x)\n",
    "        \n",
    "        #classifier layer\n",
    "        x_classified =self.classifier_activation(self.classifier_layer(x))\n",
    "        \n",
    "        return x_imp, x_classified"
   ]
  },
  {
   "cell_type": "code",
   "execution_count": 16,
   "id": "a22b6d80",
   "metadata": {},
   "outputs": [],
   "source": [
    "class AutoClassImpute(object):\n",
    "    def __init__(self, cellwise_norm=True, log1p=True, num_clusters=9, num_classes=2):\n",
    "        super(AutoClassImpute, self).__init__()\n",
    "        self.cellwise_norm = cellwise_norm\n",
    "        self.log1p = log1p\n",
    "        self.num_clusters = num_clusters\n",
    "        self.num_classes = num_classes\n",
    "        self.encoder_layer_size=[128]\n",
    "        \n",
    "        self.AC = AutoClass()\n",
    "        \n",
    "    def create_model(self, data, encoder_layer_size=[1000, 500, 250], dropout_rate=0.1, classifier_weight=0.9, truelabel=[], reg=0.000, batch_size=32, epochs=300, verbose=False, npc=15, es=30, reduce_lr=15, lr=0.001):\n",
    "        self.AC.set_input_data(data)\n",
    "        self.AC.set_dropout_rate(dropout_rate)\n",
    "        self.AC.set_lr(lr)\n",
    "        self.AC.set_encoder_layer_size(encoder_layer_size)\n",
    "        self.AC.set_batch_size(batch_size)\n",
    "        self.AC.set_verbose(verbose)\n",
    "        self.AC.set_npc(npc)\n",
    "        self.AC.set_early_stopping(es)\n",
    "        self.AC.set_reduce_lr(reduce_lr)\n",
    "        self.AC.set_reg(reg)\n",
    "        self.AC.set_classifier_weight(classifier_weight)\n",
    "        self.ncell = self.AC.ncell\n",
    "        self.ngene = self.AC.ngene\n",
    "        \n",
    "        self.AC._create_model()\n",
    "        \n",
    "    def work(self, x, y=None):\n",
    "        imps = np.zeros((self.ncell, self.ngene))\n",
    "        \n",
    "        if type(self.num_clusters) == int:\n",
    "            num_cluster = [np.max((1,self.num_clusters-1)),self.num_clusters, self.num_clusters+1]\n",
    "        else:\n",
    "            num_cluster = self.num_clusters\n",
    "        print('number of clusters in pre-clustering:{}'.format(self.num_clusters))\n",
    "        for n_cluster in num_cluster:\n",
    "            print('n_cluster = {}...'.format(n_cluster))\n",
    "            self.AC.set_n_clusters(n_cluster)\n",
    "            self.AC.cluster()\n",
    "            self.create_model(x)\n",
    "            imp = self.train(x)\n",
    "            imps = imps + imp\n",
    "        imps = imps/3\n",
    "        return imps\n",
    "            \n",
    "        \n",
    "        \n",
    "    def train(self, x, y=None):\n",
    "        \n",
    "        criterion_decoder = nn.MSELoss().to(device)\n",
    "        criterion_classifier = nn.CrossEntropyLoss().to(device)\n",
    "\n",
    "        optimizer = optim.Adam(self.AC.parameters(), lr=self.AC.lr)\n",
    "        \n",
    "        input_data = self.AC.input_data\n",
    "        cluster_labels = self.AC.dummy_label\n",
    "\n",
    "        train_data = []\n",
    "        for i in range(len(input_data)):\n",
    "            train_data.append([input_data[i], cluster_labels[i]])\n",
    "\n",
    "        trainloader = torch.utils.data.DataLoader(train_data, shuffle=True, batch_size=self.AC.batch_size)\n",
    "        for epoch in range(self.AC.epochs):\n",
    "            self.AC.to(device)\n",
    "            for inp_data, labels in trainloader:\n",
    "                optimizer.zero_grad()\n",
    "                out_imp, out_classified = self.AC(inp_data.to(device))\n",
    "                loss_imp = criterion_decoder(out_imp, inp_data.to(device))\n",
    "                #loss_clusters = criterion_classifier(out_classified.to(torch.float), labels.to(device).to(torch.float))\n",
    "                loss_clusters = nn.NLLLoss().to(device)(torch.log(out_classified), labels.to(device).argmax(-1))\n",
    "                loss = (1 - self.AC.classifier_weight) * loss_imp + self.AC.classifier_weight * loss_clusters\n",
    "                loss.backward()\n",
    "                optimizer.step()\n",
    "        imp = []\n",
    "        with torch.no_grad():\n",
    "            for inp_data, labels in trainloader:\n",
    "                optimizer.zero_grad()\n",
    "                out_imp, out_classified = self.AC(inp_data.to(device))\n",
    "                imp.extend(out_imp.cpu().numpy())\n",
    "        imp = np.array(imp)\n",
    "        return imp\n",
    "        \n",
    "        \n",
    "        "
   ]
  },
  {
   "cell_type": "code",
   "execution_count": 17,
   "id": "43e08085",
   "metadata": {},
   "outputs": [
    {
     "name": "stderr",
     "output_type": "stream",
     "text": [
      "/usr/local/lib/python3.8/dist-packages/torch/nn/init.py:405: UserWarning: Initializing zero-element tensors is a no-op\n",
      "  warnings.warn(\"Initializing zero-element tensors is a no-op\")\n"
     ]
    },
    {
     "name": "stdout",
     "output_type": "stream",
     "text": [
      "number of clusters in pre-clustering:22\n",
      "n_cluster = 21...\n"
     ]
    },
    {
     "name": "stderr",
     "output_type": "stream",
     "text": [
      "/usr/local/lib/python3.8/dist-packages/sklearn/cluster/_kmeans.py:870: FutureWarning: The default value of `n_init` will change from 10 to 'auto' in 1.4. Set the value of `n_init` explicitly to suppress the warning\n",
      "  warnings.warn(\n"
     ]
    },
    {
     "name": "stdout",
     "output_type": "stream",
     "text": [
      "n_cluster = 22...\n"
     ]
    },
    {
     "name": "stderr",
     "output_type": "stream",
     "text": [
      "/usr/local/lib/python3.8/dist-packages/sklearn/cluster/_kmeans.py:870: FutureWarning: The default value of `n_init` will change from 10 to 'auto' in 1.4. Set the value of `n_init` explicitly to suppress the warning\n",
      "  warnings.warn(\n"
     ]
    },
    {
     "name": "stdout",
     "output_type": "stream",
     "text": [
      "n_cluster = 23...\n"
     ]
    },
    {
     "name": "stderr",
     "output_type": "stream",
     "text": [
      "/usr/local/lib/python3.8/dist-packages/sklearn/cluster/_kmeans.py:870: FutureWarning: The default value of `n_init` will change from 10 to 'auto' in 1.4. Set the value of `n_init` explicitly to suppress the warning\n",
      "  warnings.warn(\n"
     ]
    }
   ],
   "source": [
    "auto = AutoClassImpute(num_clusters=KK)\n",
    "auto.create_model(X)\n",
    "imps = auto.work(X)"
   ]
  },
  {
   "cell_type": "code",
   "execution_count": 135,
   "id": "586c2ec4",
   "metadata": {},
   "outputs": [
    {
     "data": {
      "text/plain": [
       "Text(0, 0.5, 'tSNE2')"
      ]
     },
     "execution_count": 135,
     "metadata": {},
     "output_type": "execute_result"
    },
    {
     "data": {
      "image/png": "[encoded data removed]",
      "text/plain": [
       "<Figure size 640x480 with 1 Axes>"
      ]
     },
     "metadata": {},
     "output_type": "display_data"
    }
   ],
   "source": [
    "PCA_imp = PCA(n_components=50).fit_transform(imps)\n",
    "tsne_imp = TSNE(n_components=2).fit_transform(PCA_imp)\n",
    "\n",
    "plt.scatter(tsne_imp[:, 0], tsne_imp[:, 1], s=10)\n",
    "plt.title('Imputation by AutoClass')\n",
    "plt.xticks([],[])\n",
    "plt.yticks([],[])\n",
    "plt.xlabel('tSNE1')\n",
    "plt.ylabel('tSNE2')"
   ]
  },
  {
   "cell_type": "code",
   "execution_count": 18,
   "id": "0a300733",
   "metadata": {},
   "outputs": [
    {
     "ename": "ValueError",
     "evalue": "Input X contains NaN.\nPCA does not accept missing values encoded as NaN natively. For supervised learning, you might want to consider sklearn.ensemble.HistGradientBoostingClassifier and Regressor which accept missing values encoded as NaNs natively. Alternatively, it is possible to preprocess the data, for instance by using an imputer transformer in a pipeline or drop samples with missing values. See https://scikit-learn.org/stable/modules/impute.html You can find a list of all estimators that handle NaN values at the following page: https://scikit-learn.org/stable/modules/impute.html#estimators-that-handle-nan-values",
     "output_type": "error",
     "traceback": [
      "\u001b[0;31m---------------------------------------------------------------------------\u001b[0m",
      "\u001b[0;31mValueError\u001b[0m                                Traceback (most recent call last)",
      "Cell \u001b[0;32mIn[18], line 1\u001b[0m\n\u001b[0;32m----> 1\u001b[0m PCA_imp \u001b[38;5;241m=\u001b[39m \u001b[43mPCA\u001b[49m\u001b[43m(\u001b[49m\u001b[43mn_components\u001b[49m\u001b[38;5;241;43m=\u001b[39;49m\u001b[38;5;241;43m50\u001b[39;49m\u001b[43m)\u001b[49m\u001b[38;5;241;43m.\u001b[39;49m\u001b[43mfit_transform\u001b[49m\u001b[43m(\u001b[49m\u001b[43mimps\u001b[49m\u001b[43m)\u001b[49m\n\u001b[1;32m      2\u001b[0m tsne_imp \u001b[38;5;241m=\u001b[39m TSNE(n_components\u001b[38;5;241m=\u001b[39m\u001b[38;5;241m2\u001b[39m)\u001b[38;5;241m.\u001b[39mfit_transform(PCA_imp)\n\u001b[1;32m      4\u001b[0m fig \u001b[38;5;241m=\u001b[39m plt\u001b[38;5;241m.\u001b[39mfigure(figsize\u001b[38;5;241m=\u001b[39m(\u001b[38;5;241m4\u001b[39m,\u001b[38;5;241m4\u001b[39m))\n",
      "File \u001b[0;32m/usr/local/lib/python3.8/dist-packages/sklearn/utils/_set_output.py:142\u001b[0m, in \u001b[0;36m_wrap_method_output.<locals>.wrapped\u001b[0;34m(self, X, *args, **kwargs)\u001b[0m\n\u001b[1;32m    140\u001b[0m \u001b[38;5;129m@wraps\u001b[39m(f)\n\u001b[1;32m    141\u001b[0m \u001b[38;5;28;01mdef\u001b[39;00m \u001b[38;5;21mwrapped\u001b[39m(\u001b[38;5;28mself\u001b[39m, X, \u001b[38;5;241m*\u001b[39margs, \u001b[38;5;241m*\u001b[39m\u001b[38;5;241m*\u001b[39mkwargs):\n\u001b[0;32m--> 142\u001b[0m     data_to_wrap \u001b[38;5;241m=\u001b[39m \u001b[43mf\u001b[49m\u001b[43m(\u001b[49m\u001b[38;5;28;43mself\u001b[39;49m\u001b[43m,\u001b[49m\u001b[43m \u001b[49m\u001b[43mX\u001b[49m\u001b[43m,\u001b[49m\u001b[43m \u001b[49m\u001b[38;5;241;43m*\u001b[39;49m\u001b[43margs\u001b[49m\u001b[43m,\u001b[49m\u001b[43m \u001b[49m\u001b[38;5;241;43m*\u001b[39;49m\u001b[38;5;241;43m*\u001b[39;49m\u001b[43mkwargs\u001b[49m\u001b[43m)\u001b[49m\n\u001b[1;32m    143\u001b[0m     \u001b[38;5;28;01mif\u001b[39;00m \u001b[38;5;28misinstance\u001b[39m(data_to_wrap, \u001b[38;5;28mtuple\u001b[39m):\n\u001b[1;32m    144\u001b[0m         \u001b[38;5;66;03m# only wrap the first output for cross decomposition\u001b[39;00m\n\u001b[1;32m    145\u001b[0m         \u001b[38;5;28;01mreturn\u001b[39;00m (\n\u001b[1;32m    146\u001b[0m             _wrap_data_with_container(method, data_to_wrap[\u001b[38;5;241m0\u001b[39m], X, \u001b[38;5;28mself\u001b[39m),\n\u001b[1;32m    147\u001b[0m             \u001b[38;5;241m*\u001b[39mdata_to_wrap[\u001b[38;5;241m1\u001b[39m:],\n\u001b[1;32m    148\u001b[0m         )\n",
      "File \u001b[0;32m/usr/local/lib/python3.8/dist-packages/sklearn/decomposition/_pca.py:462\u001b[0m, in \u001b[0;36mPCA.fit_transform\u001b[0;34m(self, X, y)\u001b[0m\n\u001b[1;32m    439\u001b[0m \u001b[38;5;250m\u001b[39m\u001b[38;5;124;03m\"\"\"Fit the model with X and apply the dimensionality reduction on X.\u001b[39;00m\n\u001b[1;32m    440\u001b[0m \n\u001b[1;32m    441\u001b[0m \u001b[38;5;124;03mParameters\u001b[39;00m\n\u001b[0;32m   (...)\u001b[0m\n\u001b[1;32m    458\u001b[0m \u001b[38;5;124;03mC-ordered array, use 'np.ascontiguousarray'.\u001b[39;00m\n\u001b[1;32m    459\u001b[0m \u001b[38;5;124;03m\"\"\"\u001b[39;00m\n\u001b[1;32m    460\u001b[0m \u001b[38;5;28mself\u001b[39m\u001b[38;5;241m.\u001b[39m_validate_params()\n\u001b[0;32m--> 462\u001b[0m U, S, Vt \u001b[38;5;241m=\u001b[39m \u001b[38;5;28;43mself\u001b[39;49m\u001b[38;5;241;43m.\u001b[39;49m\u001b[43m_fit\u001b[49m\u001b[43m(\u001b[49m\u001b[43mX\u001b[49m\u001b[43m)\u001b[49m\n\u001b[1;32m    463\u001b[0m U \u001b[38;5;241m=\u001b[39m U[:, : \u001b[38;5;28mself\u001b[39m\u001b[38;5;241m.\u001b[39mn_components_]\n\u001b[1;32m    465\u001b[0m \u001b[38;5;28;01mif\u001b[39;00m \u001b[38;5;28mself\u001b[39m\u001b[38;5;241m.\u001b[39mwhiten:\n\u001b[1;32m    466\u001b[0m     \u001b[38;5;66;03m# X_new = X * V / S * sqrt(n_samples) = U * sqrt(n_samples)\u001b[39;00m\n",
      "File \u001b[0;32m/usr/local/lib/python3.8/dist-packages/sklearn/decomposition/_pca.py:485\u001b[0m, in \u001b[0;36mPCA._fit\u001b[0;34m(self, X)\u001b[0m\n\u001b[1;32m    479\u001b[0m \u001b[38;5;28;01mif\u001b[39;00m issparse(X):\n\u001b[1;32m    480\u001b[0m     \u001b[38;5;28;01mraise\u001b[39;00m \u001b[38;5;167;01mTypeError\u001b[39;00m(\n\u001b[1;32m    481\u001b[0m         \u001b[38;5;124m\"\u001b[39m\u001b[38;5;124mPCA does not support sparse input. See \u001b[39m\u001b[38;5;124m\"\u001b[39m\n\u001b[1;32m    482\u001b[0m         \u001b[38;5;124m\"\u001b[39m\u001b[38;5;124mTruncatedSVD for a possible alternative.\u001b[39m\u001b[38;5;124m\"\u001b[39m\n\u001b[1;32m    483\u001b[0m     )\n\u001b[0;32m--> 485\u001b[0m X \u001b[38;5;241m=\u001b[39m \u001b[38;5;28;43mself\u001b[39;49m\u001b[38;5;241;43m.\u001b[39;49m\u001b[43m_validate_data\u001b[49m\u001b[43m(\u001b[49m\n\u001b[1;32m    486\u001b[0m \u001b[43m    \u001b[49m\u001b[43mX\u001b[49m\u001b[43m,\u001b[49m\u001b[43m \u001b[49m\u001b[43mdtype\u001b[49m\u001b[38;5;241;43m=\u001b[39;49m\u001b[43m[\u001b[49m\u001b[43mnp\u001b[49m\u001b[38;5;241;43m.\u001b[39;49m\u001b[43mfloat64\u001b[49m\u001b[43m,\u001b[49m\u001b[43m \u001b[49m\u001b[43mnp\u001b[49m\u001b[38;5;241;43m.\u001b[39;49m\u001b[43mfloat32\u001b[49m\u001b[43m]\u001b[49m\u001b[43m,\u001b[49m\u001b[43m \u001b[49m\u001b[43mensure_2d\u001b[49m\u001b[38;5;241;43m=\u001b[39;49m\u001b[38;5;28;43;01mTrue\u001b[39;49;00m\u001b[43m,\u001b[49m\u001b[43m \u001b[49m\u001b[43mcopy\u001b[49m\u001b[38;5;241;43m=\u001b[39;49m\u001b[38;5;28;43mself\u001b[39;49m\u001b[38;5;241;43m.\u001b[39;49m\u001b[43mcopy\u001b[49m\n\u001b[1;32m    487\u001b[0m \u001b[43m\u001b[49m\u001b[43m)\u001b[49m\n\u001b[1;32m    489\u001b[0m \u001b[38;5;66;03m# Handle n_components==None\u001b[39;00m\n\u001b[1;32m    490\u001b[0m \u001b[38;5;28;01mif\u001b[39;00m \u001b[38;5;28mself\u001b[39m\u001b[38;5;241m.\u001b[39mn_components \u001b[38;5;129;01mis\u001b[39;00m \u001b[38;5;28;01mNone\u001b[39;00m:\n",
      "File \u001b[0;32m/usr/local/lib/python3.8/dist-packages/sklearn/base.py:535\u001b[0m, in \u001b[0;36mBaseEstimator._validate_data\u001b[0;34m(self, X, y, reset, validate_separately, **check_params)\u001b[0m\n\u001b[1;32m    533\u001b[0m     \u001b[38;5;28;01mraise\u001b[39;00m \u001b[38;5;167;01mValueError\u001b[39;00m(\u001b[38;5;124m\"\u001b[39m\u001b[38;5;124mValidation should be done on X, y or both.\u001b[39m\u001b[38;5;124m\"\u001b[39m)\n\u001b[1;32m    534\u001b[0m \u001b[38;5;28;01melif\u001b[39;00m \u001b[38;5;129;01mnot\u001b[39;00m no_val_X \u001b[38;5;129;01mand\u001b[39;00m no_val_y:\n\u001b[0;32m--> 535\u001b[0m     X \u001b[38;5;241m=\u001b[39m \u001b[43mcheck_array\u001b[49m\u001b[43m(\u001b[49m\u001b[43mX\u001b[49m\u001b[43m,\u001b[49m\u001b[43m \u001b[49m\u001b[43minput_name\u001b[49m\u001b[38;5;241;43m=\u001b[39;49m\u001b[38;5;124;43m\"\u001b[39;49m\u001b[38;5;124;43mX\u001b[39;49m\u001b[38;5;124;43m\"\u001b[39;49m\u001b[43m,\u001b[49m\u001b[43m \u001b[49m\u001b[38;5;241;43m*\u001b[39;49m\u001b[38;5;241;43m*\u001b[39;49m\u001b[43mcheck_params\u001b[49m\u001b[43m)\u001b[49m\n\u001b[1;32m    536\u001b[0m     out \u001b[38;5;241m=\u001b[39m X\n\u001b[1;32m    537\u001b[0m \u001b[38;5;28;01melif\u001b[39;00m no_val_X \u001b[38;5;129;01mand\u001b[39;00m \u001b[38;5;129;01mnot\u001b[39;00m no_val_y:\n",
      "File \u001b[0;32m/usr/local/lib/python3.8/dist-packages/sklearn/utils/validation.py:919\u001b[0m, in \u001b[0;36mcheck_array\u001b[0;34m(array, accept_sparse, accept_large_sparse, dtype, order, copy, force_all_finite, ensure_2d, allow_nd, ensure_min_samples, ensure_min_features, estimator, input_name)\u001b[0m\n\u001b[1;32m    913\u001b[0m         \u001b[38;5;28;01mraise\u001b[39;00m \u001b[38;5;167;01mValueError\u001b[39;00m(\n\u001b[1;32m    914\u001b[0m             \u001b[38;5;124m\"\u001b[39m\u001b[38;5;124mFound array with dim \u001b[39m\u001b[38;5;132;01m%d\u001b[39;00m\u001b[38;5;124m. \u001b[39m\u001b[38;5;132;01m%s\u001b[39;00m\u001b[38;5;124m expected <= 2.\u001b[39m\u001b[38;5;124m\"\u001b[39m\n\u001b[1;32m    915\u001b[0m             \u001b[38;5;241m%\u001b[39m (array\u001b[38;5;241m.\u001b[39mndim, estimator_name)\n\u001b[1;32m    916\u001b[0m         )\n\u001b[1;32m    918\u001b[0m     \u001b[38;5;28;01mif\u001b[39;00m force_all_finite:\n\u001b[0;32m--> 919\u001b[0m         \u001b[43m_assert_all_finite\u001b[49m\u001b[43m(\u001b[49m\n\u001b[1;32m    920\u001b[0m \u001b[43m            \u001b[49m\u001b[43marray\u001b[49m\u001b[43m,\u001b[49m\n\u001b[1;32m    921\u001b[0m \u001b[43m            \u001b[49m\u001b[43minput_name\u001b[49m\u001b[38;5;241;43m=\u001b[39;49m\u001b[43minput_name\u001b[49m\u001b[43m,\u001b[49m\n\u001b[1;32m    922\u001b[0m \u001b[43m            \u001b[49m\u001b[43mestimator_name\u001b[49m\u001b[38;5;241;43m=\u001b[39;49m\u001b[43mestimator_name\u001b[49m\u001b[43m,\u001b[49m\n\u001b[1;32m    923\u001b[0m \u001b[43m            \u001b[49m\u001b[43mallow_nan\u001b[49m\u001b[38;5;241;43m=\u001b[39;49m\u001b[43mforce_all_finite\u001b[49m\u001b[43m \u001b[49m\u001b[38;5;241;43m==\u001b[39;49m\u001b[43m \u001b[49m\u001b[38;5;124;43m\"\u001b[39;49m\u001b[38;5;124;43mallow-nan\u001b[39;49m\u001b[38;5;124;43m\"\u001b[39;49m\u001b[43m,\u001b[49m\n\u001b[1;32m    924\u001b[0m \u001b[43m        \u001b[49m\u001b[43m)\u001b[49m\n\u001b[1;32m    926\u001b[0m \u001b[38;5;28;01mif\u001b[39;00m ensure_min_samples \u001b[38;5;241m>\u001b[39m \u001b[38;5;241m0\u001b[39m:\n\u001b[1;32m    927\u001b[0m     n_samples \u001b[38;5;241m=\u001b[39m _num_samples(array)\n",
      "File \u001b[0;32m/usr/local/lib/python3.8/dist-packages/sklearn/utils/validation.py:161\u001b[0m, in \u001b[0;36m_assert_all_finite\u001b[0;34m(X, allow_nan, msg_dtype, estimator_name, input_name)\u001b[0m\n\u001b[1;32m    144\u001b[0m \u001b[38;5;28;01mif\u001b[39;00m estimator_name \u001b[38;5;129;01mand\u001b[39;00m input_name \u001b[38;5;241m==\u001b[39m \u001b[38;5;124m\"\u001b[39m\u001b[38;5;124mX\u001b[39m\u001b[38;5;124m\"\u001b[39m \u001b[38;5;129;01mand\u001b[39;00m has_nan_error:\n\u001b[1;32m    145\u001b[0m     \u001b[38;5;66;03m# Improve the error message on how to handle missing values in\u001b[39;00m\n\u001b[1;32m    146\u001b[0m     \u001b[38;5;66;03m# scikit-learn.\u001b[39;00m\n\u001b[1;32m    147\u001b[0m     msg_err \u001b[38;5;241m+\u001b[39m\u001b[38;5;241m=\u001b[39m (\n\u001b[1;32m    148\u001b[0m         \u001b[38;5;124mf\u001b[39m\u001b[38;5;124m\"\u001b[39m\u001b[38;5;130;01m\\n\u001b[39;00m\u001b[38;5;132;01m{\u001b[39;00mestimator_name\u001b[38;5;132;01m}\u001b[39;00m\u001b[38;5;124m does not accept missing values\u001b[39m\u001b[38;5;124m\"\u001b[39m\n\u001b[1;32m    149\u001b[0m         \u001b[38;5;124m\"\u001b[39m\u001b[38;5;124m encoded as NaN natively. For supervised learning, you might want\u001b[39m\u001b[38;5;124m\"\u001b[39m\n\u001b[0;32m   (...)\u001b[0m\n\u001b[1;32m    159\u001b[0m         \u001b[38;5;124m\"\u001b[39m\u001b[38;5;124m#estimators-that-handle-nan-values\u001b[39m\u001b[38;5;124m\"\u001b[39m\n\u001b[1;32m    160\u001b[0m     )\n\u001b[0;32m--> 161\u001b[0m \u001b[38;5;28;01mraise\u001b[39;00m \u001b[38;5;167;01mValueError\u001b[39;00m(msg_err)\n",
      "\u001b[0;31mValueError\u001b[0m: Input X contains NaN.\nPCA does not accept missing values encoded as NaN natively. For supervised learning, you might want to consider sklearn.ensemble.HistGradientBoostingClassifier and Regressor which accept missing values encoded as NaNs natively. Alternatively, it is possible to preprocess the data, for instance by using an imputer transformer in a pipeline or drop samples with missing values. See https://scikit-learn.org/stable/modules/impute.html You can find a list of all estimators that handle NaN values at the following page: https://scikit-learn.org/stable/modules/impute.html#estimators-that-handle-nan-values"
     ]
    }
   ],
   "source": [
    "PCA_imp = PCA(n_components=50).fit_transform(imps)\n",
    "tsne_imp = TSNE(n_components=2).fit_transform(PCA_imp)\n",
    "\n",
    "fig = plt.figure(figsize=(4,4))\n",
    "for i in range(KK):\n",
    "    plt.scatter(tsne_imp[Y==unique_class[i],0],\n",
    "                tsne_imp[Y==unique_class[i],1], \n",
    "                s=10,label = unique_class[i] ) \n",
    "plt.title('Imputation by AutoClass')\n",
    "plt.xticks([],[])\n",
    "plt.yticks([],[])\n",
    "plt.xlabel('tSNE1')\n",
    "plt.ylabel('tSNE2')"
   ]
  },
  {
   "cell_type": "code",
   "execution_count": null,
   "id": "cc6e433f",
   "metadata": {},
   "outputs": [],
   "source": []
  }
 ],
 "metadata": {
  "kernelspec": {
   "display_name": "Python 3 (ipykernel)",
   "language": "python",
   "name": "python3"
  },
  "language_info": {
   "codemirror_mode": {
    "name": "ipython",
    "version": 3
   },
   "file_extension": ".py",
   "mimetype": "text/x-python",
   "name": "python",
   "nbconvert_exporter": "python",
   "pygments_lexer": "ipython3",
   "version": "3.8.10"
  }
 },
 "nbformat": 4,
 "nbformat_minor": 5
}
